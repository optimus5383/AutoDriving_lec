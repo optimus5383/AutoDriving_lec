{
 "cells": [
  {
   "cell_type": "markdown",
   "metadata": {
    "id": "yOx_CBHcT_88"
   },
   "source": [
    "# **EKF SLAM**\n",
    "**reference**: https://www.ipb.uni-bonn.de/teaching/"
   ]
  },
  {
   "cell_type": "markdown",
   "metadata": {
    "id": "ZhEPoM1wTdTW"
   },
   "source": [
    "## **Kalman Filter**\n",
    "- 선형모델에 대한 Prediction (예측)과 Correction(수정)을 반복적으로 수행하여 최적의 상태를 추정하는 필터\n",
    "- **Prediction**: 현재 상태와 모델을 이용하여 다음 step의 상태를 예측 (2~3)\n",
    "- **Correction**: 현재 상태와 관측값을 이용하여 상태를 수정 (4~6)\n",
    "\n",
    "<img src=\"./images/figure1.png\" width=\"500px\" title=\"figure1\"/>"
   ]
  },
  {
   "cell_type": "markdown",
   "metadata": {},
   "source": [
    "<img src=\"./images/figure2.png\" width=\"500px\" title=\"figure2\"/>"
   ]
  },
  {
   "cell_type": "markdown",
   "metadata": {},
   "source": [
    "### **Kalman filter example**\n",
    "- **TODO**: 1차원 모델을 이용하여 칼만 필터 설계하기\n",
    "\n",
    "<img src=\"./images/figure3.png\" width=\"300px\" title=\"figure3\"><br/>\n",
    "\n",
    "- w와 v는 각각 분산이 R과 Q를 만족하는 gaussian random noise\n",
    "- 분산을 만족하는 random noise는 정규분포에 표준편차를 곱한 형태 (hint: cholesky decomposition)"
   ]
  },
  {
   "cell_type": "markdown",
   "metadata": {},
   "source": [
    "- 결과 예시\n",
    "\n",
    "<img src=\"./images/figure4.png\" width=\"500px\" title=\"figure4\"/>"
   ]
  },
  {
   "cell_type": "code",
   "execution_count": null,
   "metadata": {
    "id": "3Qy0H_YmWUSt"
   },
   "outputs": [],
   "source": [
    "import numpy as np\n",
    "import matplotlib.pyplot as plt\n",
    "\n",
    "def true_state(x, u):\n",
    "    A = np.array([[0.7]])\n",
    "    B = np.array([[1/np.sqrt(2)]])\n",
    "    R = np.array([[0.5]])\n",
    "    ##### TODO: 모션모델을 작성해서 true data를 output #####\n",
    "    # guassian noise가 모델에 반영되도록 작성\n",
    "    x_p = x\n",
    "    ########################################################\n",
    "    return x_p\n",
    "\n",
    "def observation_model(x):\n",
    "    C = np.reshape(1, [1, 1])\n",
    "    Q = np.reshape(0.15, [1, 1])\n",
    "    ###### TODO: 관측모델을 작성하여 sensor data를 output #####\n",
    "    # guassian noise가 모델에 반영되도록 작성\n",
    "    z = x\n",
    "    ###########################################################\n",
    "    return z\n",
    "\n",
    "class kalman_filter():\n",
    "    def __init__(self):\n",
    "        # 칼만필터에 사용할 system 정의\n",
    "        self.A = np.array([[0.7]])\n",
    "        self.B = np.array([[1/np.sqrt(2)]])\n",
    "        self.C = np.array([[1]])\n",
    "        self.R = np.array([[0.5]])\n",
    "        self.Q = np.array([[0.15]])\n",
    "\n",
    "        # 칼만필터 초기 state와 covariance 정의\n",
    "        self.x = np.zeros([len(self.A), 1])\n",
    "        self.P = 10*np.eye(len(self.A))\n",
    "    \n",
    "    def prediction(self, x, P, u):\n",
    "        ##### TODO: 칼만필터의 prediction 부분 구현 #####\n",
    "        x_p = x\n",
    "        P_p = P\n",
    "        #################################################\n",
    "        return x_p, P_p\n",
    "\n",
    "    def correction(self, x, P, z):\n",
    "        ##### TODO: 칼만필터의 correction 부분 구현 #####\n",
    "        K = np.eye(1)\n",
    "        x_c = x\n",
    "        P_c = P\n",
    "        #################################################\n",
    "        return x_c, P_c\n",
    "\n",
    "    def update(self, x, P, u, z):\n",
    "        x_p, P_p = self.prediction(x, P, u)\n",
    "        x_c, P_c = self.correction(x_p, P_p, z)\n",
    "        return x_p, P_p, x_c, P_c\n",
    "\n",
    "kalman = kalman_filter()\n",
    "x_list = []\n",
    "x_true_list = []\n",
    "z_list = []\n",
    "x_true = np.reshape(0, [1, 1])\n",
    "\n",
    "for i in range(100):\n",
    "    u = np.reshape(10, [1, 1])\n",
    "    # true data generation\n",
    "    x_true = true_state(x_true, u)\n",
    "    # sensor data generation\n",
    "    z = observation_model(x_true)\n",
    "\n",
    "    # kalman filter\n",
    "    _, _, kalman.x, kalman.P = kalman.update(kalman.x, kalman.P, u, z)\n",
    "\n",
    "    # for plotting\n",
    "    x_true_list.append(x_true.flatten())\n",
    "    x_list.append(kalman.x.flatten())\n",
    "    z_list.append(z.flatten())"
   ]
  },
  {
   "cell_type": "code",
   "execution_count": null,
   "metadata": {
    "id": "6OhJzLDaohIo"
   },
   "outputs": [],
   "source": [
    "plt.figure(figsize=[10, 5], facecolor='w')\n",
    "plt.plot(x_true_list, 'k-', linewidth=5, alpha=0.5)\n",
    "plt.plot(x_list, 'r.--', linewidth=2)\n",
    "plt.plot(z_list, 'b.-.', linewidth=2)\n",
    "plt.grid('on')\n",
    "plt.xlabel('step', fontsize=15)\n",
    "plt.ylabel('state', fontsize=15)\n",
    "plt.title('Kalman filter example', fontsize=20)\n",
    "plt.legend(['true', 'kalman', 'sensor'], fontsize=15)\n",
    "plt.show()"
   ]
  },
  {
   "cell_type": "markdown",
   "metadata": {
    "id": "pf9IjVBXzgW6"
   },
   "source": [
    "## **Extended Kalman Filter**\n",
    "- 기존의 Kalman filter는 선형 모델에서만 적용가능\n",
    "- 비선형 모델에서 칼만필터를 적용하기 위해서는 Taylor expansion을 이용한 선형화 과정이 필요\n",
    "\n",
    "### **Taylor Expansion**\n",
    "- 비선형 모델을 근사화를 통해 선형 모델로 표현하는 방법\n",
    "- 선형화할 지점 근처에서는 합리적인 결과를 보임\n",
    "- 보통 EKF에서는 1차 까지만 선형화하고 고차항은 무시\n",
    "\n",
    "<img src=\"./images/figure5.png\" width=\"500px\" title=\"figure5\"/>"
   ]
  },
  {
   "cell_type": "markdown",
   "metadata": {},
   "source": [
    "<img src=\"./images/figure6.png\" width=\"500px\" title=\"figure6\"/>"
   ]
  },
  {
   "cell_type": "markdown",
   "metadata": {},
   "source": [
    "### **Jacobian Matrix**\n",
    "- state가 2개 이상일 때, 각각의 state에 대해서 1차 편미분한 값을 matrix의 형태로 표현\n",
    "- Jacobian matrix가 system matrix 대신 사용됨\n",
    "\n",
    "<img src=\"./images/figure7.png\" width=\"200px\" title=\"figure7\"/>"
   ]
  },
  {
   "cell_type": "markdown",
   "metadata": {},
   "source": [
    "### **EKF formulation**\n",
    "- 칼만필터와 거의 유사한 형태를 지니지만 A, C matrix 대신 Jacobian matrix 사용\n",
    "- 평균값을 update 할 때는 비선형 모델을 그대로 사용\n",
    "- Covariance를 update 할 때는 Jacobian matrix 사용\n",
    "\n",
    "<img src=\"./images/figure8.png\" width=\"500px\" title=\"figure8\"/>"
   ]
  },
  {
   "cell_type": "markdown",
   "metadata": {
    "id": "leaWkNvsn6Be"
   },
   "source": [
    "#### **EKF example**\n",
    "- **TODO**: 1차원 비선형 모델을 이용한 EKF 설계\n",
    "\n",
    "<img align=\"left\" src=\"./images/figure9.png\" width=\"500px\" title=\"figure9\"/>"
   ]
  },
  {
   "cell_type": "markdown",
   "metadata": {},
   "source": [
    "<img src=\"./images/figure10.png\" width=\"500px\" title=\"figure10\"/>"
   ]
  },
  {
   "cell_type": "code",
   "execution_count": null,
   "metadata": {
    "id": "7czezA1NiJDv"
   },
   "outputs": [],
   "source": [
    "import numpy as np\n",
    "import matplotlib.pyplot as plt\n",
    "\n",
    "def true_state(x, k):\n",
    "    R = np.array([[0.5]])\n",
    "    k = np.array([[k]])\n",
    "    ##### TODO: 비선형 모션모델을 작성해서 true data를 output #####\n",
    "    # guassian noise가 모델에 반영되도록 작성\n",
    "    x_p = x \n",
    "    ########################################################\n",
    "    return x_p\n",
    "\n",
    "def observation_model(x):\n",
    "    Q = np.reshape(0.15, [1, 1])\n",
    "    ###### TODO: 비선형 관측모델을 작성하여 sensor data를 output #####\n",
    "    # guassian noise가 모델에 반영되도록 작성\n",
    "    z = x\n",
    "    ###########################################################\n",
    "    return z\n",
    "\n",
    "class extended_kalman_filter():\n",
    "    def __init__(self):\n",
    "        # 칼만필터에 사용할 system 정의\n",
    "        self.R = np.array([[0.5]])\n",
    "        self.Q = np.array([[0.15]])\n",
    "\n",
    "        # 칼만필터 초기 state와 covariance 정의\n",
    "        self.x = np.zeros([len(self.Q), 1])\n",
    "        self.P = 10*np.eye(len(self.Q))\n",
    "\n",
    "        # 현재 state를 바탕으로 Jacobian Matrix 계산\n",
    "        self.G, self.H = self.Jacobian(self.x)\n",
    "\n",
    "    def Jacobian(self, x):\n",
    "        ###### TODO: 비선형 모델을 미분한 Jacobian matrix 작성 #####\n",
    "        G = np.eye(1)\n",
    "        H = np.eye(1)\n",
    "        ######################################################\n",
    "        return G, H\n",
    "    \n",
    "    def prediction(self, x, P, k):\n",
    "        self.G, _ = self.Jacobian(x)\n",
    "        ##### TODO: 칼만필터의 prediction 부분 구현 #####\n",
    "        x_p = x\n",
    "        P_p = P\n",
    "        #############################################\n",
    "        return x_p, P_p\n",
    "\n",
    "    def correction(self, x, P, z):\n",
    "        _, self.H = self.Jacobian(x)\n",
    "        ##### TODO: 칼만필터의 correction 부분 구현 #####\n",
    "        K = np.eye(1)\n",
    "        x_c = x\n",
    "        P_c = P\n",
    "        ############################################\n",
    "        return x_c, P_c\n",
    "  \n",
    "    def update(self, x, P, k, z):\n",
    "        x_p, P_p = self.prediction(x, P, k)\n",
    "        x_c, P_c = self.correction(x_p, P_p, z)\n",
    "        return x_p, P_p, x_c, P_c\n",
    "\n",
    "EKF = extended_kalman_filter()\n",
    "x_list = []\n",
    "x_true_list = []\n",
    "z_list = []\n",
    "x_true = np.reshape(0, [1, 1])\n",
    "\n",
    "for i in range(100):\n",
    "    # true data generation\n",
    "    x_true = true_state(x_true, i)\n",
    "    # sensor data generation\n",
    "    z = observation_model(x_true)\n",
    "\n",
    "    # kalman filter\n",
    "    _, _, EKF.x, EKF.P = EKF.update(EKF.x, EKF.P, i, z)\n",
    "\n",
    "    # plotting\n",
    "    x_true_list.append(x_true.flatten())\n",
    "    x_list.append(EKF.x.flatten())\n",
    "    z_list.append(z.flatten())"
   ]
  },
  {
   "cell_type": "code",
   "execution_count": null,
   "metadata": {
    "id": "ua4CMEayjZl2"
   },
   "outputs": [],
   "source": [
    "plt.figure(figsize=[10, 5], facecolor='w')\n",
    "plt.plot(x_true_list, 'k-', linewidth=5, alpha=0.5)\n",
    "plt.plot(x_list, 'r.--', linewidth=2)\n",
    "plt.grid('on')\n",
    "plt.xlabel('step', fontsize=15)\n",
    "plt.ylabel('state', fontsize=15)\n",
    "plt.title('Kalman filter example', fontsize=20)\n",
    "plt.legend(['true', 'kalman'], fontsize=15)\n",
    "plt.show()"
   ]
  },
  {
   "cell_type": "markdown",
   "metadata": {
    "id": "sBewmxt2UF4y"
   },
   "source": [
    "# **EKF SLAM in 2D SPACE**\n",
    "### **OBJECTIVE**\n",
    "- Extended Kalman filter를 이용해 맵 정보와 로봇의 path를 구하는 것\n",
    "- **Given**: \n",
    "  1. Robot controls: 로봇의 제어입력\n",
    "  2. Observations: 로봇에서 관측한 환경 정보\n",
    "- **Wanted**:\n",
    "  1. 로봇이 있는 환경의 맵 정보\n",
    "  2. 로봇이 지나온 궤적"
   ]
  },
  {
   "cell_type": "markdown",
   "metadata": {
    "id": "JcvB_-Hv4efu"
   },
   "source": [
    "### **Data format**\n",
    "- world: landmark(map)의 index와 2d position (idx, x, y)\n",
    "- sensor: 로봇이 측정한 센서의 index와 2d position (time, idx, x, y)\n",
    "\n",
    "    idx의 차원은 센서가 측정한 landamark의 개수에 따라서 가변적\n",
    "- odom: 로봇의 control input (time, δ_rot1, δ_trans, δ_rot2)"
   ]
  },
  {
   "cell_type": "markdown",
   "metadata": {},
   "source": [
    "### **Robot motion model**"
   ]
  },
  {
   "cell_type": "markdown",
   "metadata": {},
   "source": [
    "**states**\n",
    "- 2차원에서 robot의 좌표와 각도\n",
    "\n",
    "**inputs**\n",
    "- δ_rot1: 첫 번째 회전 입력\n",
    "- δ_trans: 종방향 이동 거리 입력\n",
    "- δ_rot2: 두 번째 회전 입력\n",
    "\n",
    "<img src=\"./images/figure11.png\" width=\"500px\" title=\"figure11\"/>"
   ]
  },
  {
   "cell_type": "markdown",
   "metadata": {},
   "source": [
    "**motion model**\n",
    "\n",
    "<img src=\"./images/figure12.png\" width=\"500px\" title=\"figure12\"/>"
   ]
  },
  {
   "cell_type": "markdown",
   "metadata": {},
   "source": [
    "<img src=\"./images/figure13.png\" width=\"500px\" title=\"figure13\"/>"
   ]
  },
  {
   "cell_type": "markdown",
   "metadata": {
    "id": "B-K17k2o6r9X"
   },
   "source": [
    "### **Import modules**"
   ]
  },
  {
   "cell_type": "code",
   "execution_count": null,
   "metadata": {
    "id": "mzM-D2Da4eft"
   },
   "outputs": [],
   "source": [
    "import numpy as np\n",
    "import matplotlib.pyplot as plt\n",
    "from matplotlib import animation, rc\n",
    "import math\n",
    "\n",
    "from IPython.display import clear_output\n",
    "import cv2\n",
    "import glob\n",
    "import warnings\n",
    "warnings.filterwarnings(action='ignore')"
   ]
  },
  {
   "cell_type": "markdown",
   "metadata": {
    "id": "5dMGQYqZ4efy"
   },
   "source": [
    "### **Initialization**"
   ]
  },
  {
   "cell_type": "code",
   "execution_count": null,
   "metadata": {
    "id": "I7iYRqe74efz"
   },
   "outputs": [],
   "source": [
    "n = 3 # robot input의 차원\n",
    "m = 9 # landmark의 개수\n",
    "dim = n + 2*m # robot input (n) + landmark position (2*m)\n",
    "\n",
    "P = np.eye(dim)\n",
    "P[:n, :n] = 1e-5 \n",
    "\n",
    "R = np.diag([0.1, 0.1, 0.01]) # x, y, theta model에 관한 uncertainty\n",
    "Q = np.diag([10, 1]*m) # sensor에 관한 uncertainty\n",
    "\n",
    "flag = np.zeros(9) # landmark가 측정되었는지에 관한 flag"
   ]
  },
  {
   "cell_type": "markdown",
   "metadata": {
    "id": "Uk6FE3ntq8-A"
   },
   "source": [
    "### **world (map)**\n",
    "- landmark들의 index와 위치로 구성\n",
    "- shape: (num_landmark, x, y)\n"
   ]
  },
  {
   "cell_type": "code",
   "execution_count": null,
   "metadata": {
    "colab": {
     "base_uri": "https://localhost:8080/",
     "height": 607
    },
    "id": "tODB3MOA4efw",
    "outputId": "526dedb9-0e7e-4ad1-e087-aa01a5f52ec6",
    "scrolled": false
   },
   "outputs": [],
   "source": [
    "# load world data: map에 관한 정보가 저장되어있는 world.dat 가져오기\n",
    "world = np.loadtxt('./world.dat') # google drive에 저장한 위치 입력\n",
    "\n",
    "plt.figure(figsize=[10,10])\n",
    "# landmark의 x, y 위치 plot\n",
    "plt.plot(world[:,1], world[:,2], 'bs', markersize=10)\n",
    "plt.grid('on')\n",
    "plt.axis('scaled')\n",
    "plt.title('Landmarks (map)')\n",
    "\n",
    "# landmark의 index plot\n",
    "for i in range(len(world)):\n",
    "    plt.text(world[i,1]+0.3, world[i,2]+0.3, str(int(world[i,0])))\n",
    "plt.xlim([-2, 12])\n",
    "plt.ylim([-2, 12])\n",
    "plt.legend(['landmark (true)'])\n",
    "plt.show()"
   ]
  },
  {
   "cell_type": "markdown",
   "metadata": {
    "id": "puWXh18e4ZFy"
   },
   "source": [
    "### **sensor**\n",
    "- odom: robot의 motion input을 저장\n",
    "- sensor: 로봇에서 측정한 landmark의 r, phi 저장\n"
   ]
  },
  {
   "cell_type": "code",
   "execution_count": null,
   "metadata": {
    "colab": {
     "base_uri": "https://localhost:8080/"
    },
    "id": "OnVcrjjD4efx",
    "outputId": "eba02c7a-8f89-4339-db13-de36e4ecba86"
   },
   "outputs": [],
   "source": [
    "sensor = []\n",
    "odom = []\n",
    "temp = []\n",
    "save = False\n",
    "with open('./sensor_data.dat') as f:\n",
    "    lines = f.readlines()\n",
    "    i = 0\n",
    "    for line in lines:\n",
    "        line = line.replace('\\n','')\n",
    "        if 'ODOMETRY' in line:\n",
    "            line = line.replace('ODOMETRY ', '')\n",
    "            if save == False:\n",
    "                save = True\n",
    "                line = line.split(' ')\n",
    "                line = np.array(line)\n",
    "                line = line.astype(np.float)\n",
    "                odom.append(line)\n",
    "            else:\n",
    "                save = False\n",
    "                sensor.append(temp)\n",
    "                temp = []\n",
    "                line = line.split(' ')\n",
    "                line = np.array(line)\n",
    "                line = line.astype(np.float)\n",
    "                odom.append(line)\n",
    "                save = True\n",
    "        else:\n",
    "            line = line.replace('SENSOR ', '')\n",
    "            line = line.split(' ')\n",
    "            line = np.array(line)\n",
    "            line = line.astype(np.float)\n",
    "            temp.append(line)\n",
    "        if i == (len(lines) - 1):\n",
    "            sensor.append(np.array(temp))\n",
    "        i += 1\n",
    "\n",
    "odom = np.array(odom)\n",
    "sensor = np.array(sensor)\n",
    "\n",
    "print(\"odometry sensor data shape at 330s:\",odom[-1].shape)\n",
    "print(\"observation sensor data shape at 330s:\", np.shape(sensor[-1]))\n",
    "print(\"\")"
   ]
  },
  {
   "cell_type": "markdown",
   "metadata": {
    "id": "57DTkJts4Qjc"
   },
   "source": [
    "### **Robot motion**\n",
    "- 로봇이 맵 상에서 대략적으로 어떻게 움직였는지 확인\n",
    "\n",
    "<img src=\"./images/figure14.png\" width=\"500px\" title=\"figure14\"/>"
   ]
  },
  {
   "cell_type": "code",
   "execution_count": null,
   "metadata": {
    "id": "JN2jjNEF4ef0"
   },
   "outputs": [],
   "source": [
    "# robot motion을 업데이트 할 때, [-pi, pi]의 범위를 넘지 않도록 변환시켜줄 필요가 있음\n",
    "# robot의 각도를 [-pi, pi] 범위로 변환하기 위한 함수\n",
    "def norm_rot(theta):\n",
    "    theta = math.atan2(math.sin(theta), math.cos(theta))\n",
    "    return theta"
   ]
  },
  {
   "cell_type": "code",
   "execution_count": null,
   "metadata": {
    "id": "QWWgMyzmiBg2"
   },
   "outputs": [],
   "source": [
    "def motion_model(x, odom):\n",
    "    theta = x[2,0]\n",
    "    \n",
    "    d_rot1 = odom[0]\n",
    "    d_trans = odom[1]\n",
    "    d_rot2 = odom[2]\n",
    "\n",
    "    # robot motion model\n",
    "    ########### TODO: robot motion model 작성 ###########\n",
    "    g = np.zeros([3,1])\n",
    "    ####################################################\n",
    "    \n",
    "    x_pred = x + g\n",
    "    # 각도 범위 제한\n",
    "    x_pred[2,0] = norm_rot(x_pred[2,0])\n",
    "    return x_pred"
   ]
  },
  {
   "cell_type": "code",
   "execution_count": null,
   "metadata": {
    "colab": {
     "base_uri": "https://localhost:8080/",
     "height": 607
    },
    "id": "-_48fAHJiqBm",
    "outputId": "f291ea28-5cef-4f8d-a435-932ef86ae70e"
   },
   "outputs": [],
   "source": [
    "# robot이 어떤 궤적을 그리고 움직였는지 plot\n",
    "# input data 만을 이용하여 궤적을 그렸기 때문에 실제 움직인 경로와는 차이가 존재\n",
    "\n",
    "x = np.zeros([3,1]) # 초기 state 정의\n",
    "motion_update_list = []\n",
    "motion_update_list.append(x)\n",
    "\n",
    "for i in range(len(odom)):\n",
    "    x = motion_model(x, odom[i]) # motion update\n",
    "    motion_update_list.append(x)\n",
    "\n",
    "motion_update_list = np.array(motion_update_list)\n",
    "\n",
    "# world(map) plot\n",
    "plt.figure(figsize=[10,10])\n",
    "plt.plot(world[:,1], world[:,2], 'bs', markersize=10)\n",
    "plt.grid('on')\n",
    "plt.title('map + motion')\n",
    "for i in range(len(world)):\n",
    "    plt.text(world[i,1]+0.2, world[i,2]+0.2, str(int(world[i,0])))\n",
    "\n",
    "# robot trajectory plot\n",
    "color = np.linspace([1, 0, 0, 0.3], [1, 0, 1, 1], len(motion_update_list))\n",
    "for i in range(len(motion_update_list)):\n",
    "    plt.plot(motion_update_list[i,0], motion_update_list[i,1], 'o', color=color[i])\n",
    "plt.axis('scaled')\n",
    "plt.legend(['landmark (true)', 'robot (uncertain)'])\n",
    "plt.xlim([-2, 12])\n",
    "plt.ylim([-2, 12])\n",
    "plt.show()"
   ]
  },
  {
   "cell_type": "markdown",
   "metadata": {
    "id": "y6Go7A7jGYbO"
   },
   "source": [
    "### **Sensor model**\n",
    "- Range Bearing model\n",
    "\n",
    "<img src=\"./images/figure15.png\" width=\"500px\" title=\"figure15\"/>"
   ]
  },
  {
   "cell_type": "markdown",
   "metadata": {},
   "source": [
    "<img src=\"./images/figure16.png\" width=\"500px\" title=\"figure16\"/>"
   ]
  },
  {
   "cell_type": "code",
   "execution_count": null,
   "metadata": {
    "colab": {
     "base_uri": "https://localhost:8080/",
     "height": 612
    },
    "id": "dJ89YXrYGX4N",
    "outputId": "751c4ff7-23db-4c96-d1f9-3f689782cf51"
   },
   "outputs": [],
   "source": [
    "# sensor가 어떻게 측정되었는지 확인\n",
    "x = np.zeros([3,1]) # 초기 로봇 state 정의\n",
    "sensor_example = sensor[0]\n",
    "\n",
    "landmark_pos = []\n",
    "z_list = []\n",
    "for i in range(len(sensor_example)):\n",
    "    # robot이 측정한 센서값 정의\n",
    "    index = sensor_example[i][0]\n",
    "    r = sensor_example[i][1]\n",
    "    phi = sensor_example[i][2]\n",
    "    \n",
    "    ##### TODO: 센서로 부터 landmark의 위치 정의 #####\n",
    "    temp_x = x[0, 0]\n",
    "    temp_y = x[1, 0]\n",
    "    #############################################\n",
    "\n",
    "    landmark_pos.append(np.array([[temp_x], [temp_y]]))\n",
    "\n",
    "landmark_pos = np.array(landmark_pos)\n",
    "\n",
    "# map 플랏\n",
    "plt.figure(figsize=[10,10])\n",
    "plt.plot(world[:,1], world[:,2], 'bs', markersize=10)\n",
    "plt.grid('on')\n",
    "plt.title('map + motion + sensor', fontsize=20)\n",
    "for i in range(len(world)):\n",
    "    plt.text(world[i,1]+0.2, world[i,2]+0.2, str(int(world[i,0])))\n",
    "plt.plot(x[0,0],  x[1,0], 'ro')\n",
    "\n",
    "# 측정한 센서값 플랏\n",
    "plt.plot(landmark_pos[:,0], landmark_pos[:, 1], 's', color=[1, 0.5, 0], markersize=10)\n",
    "for i in range(len(landmark_pos)):\n",
    "    plt.plot([x[0,0], landmark_pos[i,0]], [x[1,0], landmark_pos[i,1]], color=[1, 0.5, 0],)\n",
    "\n",
    "plt.axis('scaled')\n",
    "plt.legend(['landmark (true)', 'robot', 'landmark (observed)'], fontsize=15, loc='upper right')\n",
    "plt.xlim([-2, 12])\n",
    "plt.ylim([-2, 12])\n",
    "plt.show()"
   ]
  },
  {
   "cell_type": "markdown",
   "metadata": {
    "id": "nJmDICjy4efy"
   },
   "source": [
    "## **EKF**"
   ]
  },
  {
   "cell_type": "markdown",
   "metadata": {
    "id": "583DAppr4ef0"
   },
   "source": [
    "### **Prediction**\n",
    "- Extended Kalman Filter의 예측 부분을 작성\n",
    "- state의 차원이 (n+2*m) 이지만 로봇 모션은 n차원까지만 영향을 \n",
    "끼침\n",
    "- 계산의 편의성을 위해 matrix F (n x (n + 2m))를 정의\n",
    "\n",
    "<img src=\"./images/figure17.png\" width=\"500px\" title=\"figure17\"/>"
   ]
  },
  {
   "cell_type": "markdown",
   "metadata": {},
   "source": [
    "<img src=\"./images/figure18.png\" width=\"500px\" title=\"figure18\"/>"
   ]
  },
  {
   "cell_type": "markdown",
   "metadata": {},
   "source": [
    "- motion model을 미분한 값\n",
    "\n",
    "<img src=\"./images/figure21.png\" width=\"500px\" title=\"figure21\"/>"
   ]
  },
  {
   "cell_type": "markdown",
   "metadata": {},
   "source": [
    "<img src=\"./images/figure19.png\" width=\"500px\" title=\"figure19\"/>"
   ]
  },
  {
   "cell_type": "code",
   "execution_count": null,
   "metadata": {
    "id": "LI3eh0bO4ef1"
   },
   "outputs": [],
   "source": [
    "def prediction(x, u, P, R):\n",
    "    # robot의 input을 통해 motion update\n",
    "    \n",
    "    theta = x[2, 0]\n",
    "    \n",
    "    d_rot1 = u[0]\n",
    "    d_trans = u[1]\n",
    "    d_rot2 = u[2]\n",
    "    \n",
    "    F = np.zeros([n, dim])\n",
    "    F[:n, :n] = np.eye(n)\n",
    "    \n",
    "    ########### TODO: robot motion model 정의 및 state update ###########\n",
    "    g = np.zeros([3, 1])\n",
    "    # Hint: F matrix를 이용하여 차원 변환\n",
    "    x_p = x\n",
    "    x_p[2, 0] = norm_rot(x_p[2, 0])\n",
    "    ###################################################################    \n",
    "    \n",
    "    ########### TODO: motion model jacobian matrix 정의 및 covariance update ###########\n",
    "    G = np.eye(dim)\n",
    "    # Hint: motion model에 대한 covariance인 R[3x3]을 state 크기만큼 확장해줘야 차원이 맞음\n",
    "    P_p = P\n",
    "    \n",
    "    ###################################################################################\n",
    "    \n",
    "    return x_p, P_p"
   ]
  },
  {
   "cell_type": "markdown",
   "metadata": {
    "id": "6N9dgpZe4ef1"
   },
   "source": [
    "### **Correction**\n",
    "- 센서가 landmark에 대해 측정할 때, 어떤 index를 가지고 있는지는 안다고 가정 (association이 되어있다 가정)\n",
    "- sensor에서 여러개의 landmark에 대한 정보가 들어오기때문에 각각에 대한 correction 필요\n",
    "- 이전에 측정되지 않았던 landmark라면 초기화 과정 필요\n",
    "\n",
    "<img src=\"./images/figure20.png\" width=\"500px\" title=\"figure20\"/>"
   ]
  },
  {
   "cell_type": "markdown",
   "metadata": {},
   "source": [
    "<img src=\"./images/figure22.png\" width=\"500px\" title=\"figure22\"/>"
   ]
  },
  {
   "cell_type": "markdown",
   "metadata": {},
   "source": [
    "<img src=\"./images/figure23.png\" width=\"500px\" title=\"figure23\"/>"
   ]
  },
  {
   "cell_type": "markdown",
   "metadata": {},
   "source": [
    "- 계산의 편의성을 위해 F matrix 정의 [5xN]\n",
    "- j 번째 landmark를 update하기 위한 matrix\n",
    "\n",
    "<img src=\"./images/figure24.png\" width=\"800px\" title=\"figure24\"/>\n"
   ]
  },
  {
   "cell_type": "code",
   "execution_count": null,
   "metadata": {
    "id": "TL29xy4R4ef1"
   },
   "outputs": [],
   "source": [
    "def correction(x, sensor, P, Q, flag):\n",
    "    y = np.zeros([2*m, 1])\n",
    "    H = np.zeros([2*m, dim])\n",
    "    \n",
    "    # 각각의 랜드마크에 대한 correction 필요\n",
    "    for i in range(len(sensor)):\n",
    "        idx = int(sensor[i][0]) - 1 # landmark의 index\n",
    "        r = sensor[i][1] # robot과 landmark 간 거리\n",
    "        phi = sensor[i][2] # robot과 landmark 사이 각도\n",
    "        z = np.array([r, phi])\n",
    "        \n",
    "        if flag[idx] == 0:\n",
    "            ############### TODO: landmark 초기화 ###############\n",
    "            # flag가 0이면 처음 보는 랜드마크, 이후에는 flag를 1로 변환\n",
    "            # 이전에 측정되지 않은 랜드마크라면 초기화과정 필요\n",
    "            # 2*idx + 3: sensor의 x 위치\n",
    "            # 2*idx + 4: sensor의 y 위치 \n",
    "            x[2*idx + 3, 0] = x[0, 0]\n",
    "            x[2*idx + 4, 0] = x[1, 0]\n",
    "            flag[idx] = 1\n",
    "            ###################################################\n",
    "        \n",
    "        \n",
    "        ################# TODO: sensor model 정의 #################\n",
    "        h = np.zeros([1, 2])\n",
    "        ###########################################################\n",
    "        \n",
    "        e[2*idx:2*idx+2,0] = z - h\n",
    "        e[2*idx+1, 0] = norm_rot(e[2*idx+1,0])\n",
    "        \n",
    "        ###################### TODO: F matrix 정의 ######################\n",
    "        F = np.zeros([5, dim])\n",
    "        ################################################################\n",
    "        \n",
    "        ###################### TODO: sensor model jacobian matrix 정의 ######################\n",
    "        H_x = np.zeros([2, 5])\n",
    "        H[2*idx:2*idx+2, :] = H_x @ F\n",
    "        ####################################################################################\n",
    "    \n",
    "    ############# TODO: correction step 작성 #############\n",
    "    K = np.eye([N, 5])\n",
    "    x_c = x\n",
    "    x_c[2, 0] = norm_rot(x_c[2, 0])\n",
    "    P_c = P\n",
    "    ####################################################\n",
    "    \n",
    "    return x_c, P_c, flag\n",
    "        "
   ]
  },
  {
   "cell_type": "code",
   "execution_count": null,
   "metadata": {
    "id": "GsjPM9IK4ef2"
   },
   "outputs": [],
   "source": [
    "def ellipse(cov, x, y, color):\n",
    "    w, v =np.linalg.eig(cov)\n",
    "    t = np.linspace(0, 2*np.pi, 50)\n",
    "    p90 = 1\n",
    "    xx = (v[0,0]*np.sqrt(w[0])*np.cos(t) + v[0,1]*np.sqrt(w[1])*np.sin(t)) * 2 * np.sqrt(p90) + x\n",
    "    yy = (v[1,0]*np.sqrt(w[0])*np.cos(t) + v[1,1]*np.sqrt(w[1])*np.sin(t)) * 2 * np.sqrt(p90) + y\n",
    "    plt.plot(xx, yy, '--', color=color)"
   ]
  },
  {
   "cell_type": "code",
   "execution_count": null,
   "metadata": {
    "colab": {
     "base_uri": "https://localhost:8080/",
     "height": 840
    },
    "id": "wRdAAQYd4ef2",
    "outputId": "a889d86f-4958-42f4-f3db-168a4c651cfa"
   },
   "outputs": [],
   "source": [
    "# Extend Kalman filter\n",
    "x = np.zeros([dim, 1])\n",
    "\n",
    "flag = np.zeros(9)\n",
    "\n",
    "for i in range(330):\n",
    "    x, P = prediction(x, odom[i], P, R)\n",
    "    x, P, flag = correction(x, sensor[i], P, Q, flag)\n",
    "    robot_x = x[0,0]\n",
    "    robot_y = x[1,0]\n",
    "    \n",
    "    plt.figure(figsize=[10, 10])\n",
    "    # ture map plot\n",
    "    plt.plot(world[:,1], world[:,2], 'b s', markersize=10)\n",
    "    ############ TODO: tilte에 학번 이름 작성 ################\n",
    "    plt.title('EKF SLAM in 2D space, 20********, 김OO')\n",
    "\n",
    "    map_x = []\n",
    "    map_y = []\n",
    "    map_P = []\n",
    "    for j in range(m):\n",
    "        if flag[j] == 1:\n",
    "            map_x.append(x[2*j+3,0])\n",
    "            map_y.append(x[2*j+4,0])\n",
    "            map_P.append(P[2*j+3:2*j+5, 2*j+3:2*j+5])\n",
    "    \n",
    "    # estimated map plot\n",
    "    plt.plot(map_x, map_y, 's', color=[1, 0.5, 0], markersize=10)\n",
    "    # robot position plot\n",
    "    plt.plot(robot_x, robot_y, 'r o', markersize=10)\n",
    "    # robot의 uncertainty plot\n",
    "    ellipse(P[:2,:2], x[0,0], x[1,0], 'r')\n",
    "    # map의 uncertainty plot\n",
    "    for k in range(len(map_x)):\n",
    "        ellipse(map_P[k], map_x[k], map_y[k], [1, 0.5, 0],)\n",
    "    # robot이 측정한 landmark가 무엇인지 연결\n",
    "    for p in range(len(sensor[i])):\n",
    "        num = int(sensor[i][p][0]) - 1\n",
    "        plt.plot([robot_x, x[3+2*num,0]], [robot_y, x[4+2*num, 0]], color=[1, 0.5, 0])\n",
    "        \n",
    "    plt.axis([-2, 12, -2, 12])\n",
    "    plt.grid('on')\n",
    "    plt.legend(['landmark (true)', 'landmark (estimated)', 'robot (estimated)'], fontsize=15, loc='upper right')\n",
    "    # plt.pause(0.1)\n",
    "    # plt.show()\n",
    "    # 이미지가 저장된 폴더 입력\n",
    "    plt.savefig('./figures/fig'+str(f'{i:03}')+'.png', dpi=300)\n",
    "    plt.close()"
   ]
  },
  {
   "cell_type": "markdown",
   "metadata": {
    "id": "Us7dP5g-IFia"
   },
   "source": [
    "## 동영상 만드는 코드\n",
    "- figure 폴더에 저장된 사진을 동영상으로 변환"
   ]
  },
  {
   "cell_type": "code",
   "execution_count": null,
   "metadata": {
    "id": "lkMHpIpm4ef3"
   },
   "outputs": [],
   "source": [
    "img_array = []\n",
    "# 이미지가 저장된 폴더 입력\n",
    "for filename in sorted(glob.glob('./figures/*.png')):\n",
    "    img = cv2.imread(filename)\n",
    "    height, width, layers = img.shape\n",
    "    size = (width,height)\n",
    "    img_array.append(img)\n",
    "\n",
    "# 결과물로 제출할 동영상 파일명 입력\n",
    "out = cv2.VideoWriter('./EKF_SLAM.mp4',cv2.VideoWriter_fourcc(*'DIVX'), 15, size)\n",
    " \n",
    "for i in range(len(img_array)):\n",
    "    out.write(img_array[i])\n",
    "out.release()"
   ]
  },
  {
   "cell_type": "code",
   "execution_count": null,
   "metadata": {
    "id": "j8S4IR4mrYCa"
   },
   "outputs": [],
   "source": []
  }
 ],
 "metadata": {
  "colab": {
   "collapsed_sections": [],
   "provenance": []
  },
  "kernelspec": {
   "display_name": "Python 3.8.8 ('base')",
   "language": "python",
   "name": "python3"
  },
  "language_info": {
   "codemirror_mode": {
    "name": "ipython",
    "version": 3
   },
   "file_extension": ".py",
   "mimetype": "text/x-python",
   "name": "python",
   "nbconvert_exporter": "python",
   "pygments_lexer": "ipython3",
   "version": "3.8.8"
  },
  "vscode": {
   "interpreter": {
    "hash": "a349f1cc954ecfc9657f53331e86f691364c36acb70a70d2eccbf1d0e8648435"
   }
  }
 },
 "nbformat": 4,
 "nbformat_minor": 1
}
